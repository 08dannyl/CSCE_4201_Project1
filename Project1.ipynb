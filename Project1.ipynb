{
  "cells": [
    {
      "cell_type": "markdown",
      "metadata": {
        "id": "view-in-github",
        "colab_type": "text"
      },
      "source": [
        "<a href=\"https://colab.research.google.com/github/08dannyl/CSCE_4201_Project1/blob/main/Project1.ipynb\" target=\"_parent\"><img src=\"https://colab.research.google.com/assets/colab-badge.svg\" alt=\"Open In Colab\"/></a>"
      ]
    },
    {
      "cell_type": "code",
      "source": [],
      "metadata": {
        "id": "yZWxfSwQ_eqU"
      },
      "execution_count": null,
      "outputs": []
    },
    {
      "cell_type": "markdown",
      "metadata": {
        "id": "9zcLwWLtIgLB"
      },
      "source": [
        "**Names:** Danh Lam, Kelley Le\n",
        "\n",
        "Official networkx documentation: https://networkx.org/documentation/stable/reference/index.html"
      ]
    },
    {
      "cell_type": "markdown",
      "metadata": {
        "id": "QIuwUcKUpCQF"
      },
      "source": [
        "R2)"
      ]
    },
    {
      "cell_type": "code",
      "source": [
        "import networkx as nx # create an empty graph\n",
        "G=nx.Graph()"
      ],
      "metadata": {
        "id": "Oo2Q5BtgjnPR"
      },
      "execution_count": null,
      "outputs": []
    },
    {
      "cell_type": "code",
      "source": [
        "# create example graph for R2\n",
        "G.add_edges_from([(0,1, {'weight': 0.4}), (0, 4, {'weight': 0.1}), (1, 3,{'weight': 0.8}), (2,4, {'weight': 1.0}), (3,4, {'weight': 0.7})])\n"
      ],
      "metadata": {
        "id": "kKC0-qc-XG6j"
      },
      "execution_count": null,
      "outputs": []
    },
    {
      "cell_type": "code",
      "execution_count": null,
      "metadata": {
        "id": "b6nWI_rOKMeo"
      },
      "outputs": [],
      "source": [
        "import matplotlib.pyplot as plt\n",
        "\n",
        "# some properties\n",
        "print(\"node degree and node clustering\")\n",
        "for v in nx.nodes(G):\n",
        "    print(f\"{v} {nx.degree(G, v)} {nx.clustering(G, v)}\")\n",
        "\n",
        "print()\n",
        "print(\"the adjacency list\")\n",
        "for line in nx.generate_adjlist(G):\n",
        "    print(line)\n",
        "\n",
        "links = [(u, v) for (u, v, d) in G.edges(data=True)]\n",
        "pos = nx.nx_pydot.graphviz_layout(G)\n",
        "nx.draw_networkx_nodes(G, pos, node_size=1200, node_color='lightblue', linewidths=0.25) # draw nodes\n",
        "nx.draw_networkx_edges(G, pos, edgelist=links, width=4)                               # draw edges\n",
        "\n",
        "# node labels\n",
        "nx.draw_networkx_labels(G, pos, font_size=20, font_family=\"sans-serif\")\n",
        "# edge weight labels\n",
        "\n",
        "edge_labels = nx.get_edge_attributes(G, 'weight','trips')\n",
        "print(edge_labels)\n",
        "#print(\"%.2f\" % edge_labels)\n",
        "nx.draw_networkx_edge_labels(G, pos, edge_labels)\n",
        "\n",
        "plt.show()\n"
      ]
    },
    {
      "cell_type": "code",
      "source": [
        "# initialize simulation control parameters\n",
        "L_range = (5, 25)            # road length range\n",
        "T = 100                      # num trips per tick\n",
        "k = 3                        # num roads budgeted\n",
        "f = 0.6                      # shrinkage factor\n",
        "simulation_duration = 36000  # 10 hours * 60 minutes * 60 seconds"
      ],
      "metadata": {
        "id": "ifxFtgOWWori"
      },
      "execution_count": null,
      "outputs": []
    },
    {
      "cell_type": "code",
      "source": [
        "# generate trips function\n",
        "def generate_trips(num):\n",
        "  # create random pairs of start and end nodes (that are distinct from each other) within the road network"
      ],
      "metadata": {
        "id": "BvwNdigWbYcf"
      },
      "execution_count": null,
      "outputs": []
    },
    {
      "cell_type": "code",
      "source": [
        "# data collection\n",
        "for tick in range(simulation_duration):\n",
        "  trips = generate_trips(T)"
      ],
      "metadata": {
        "id": "aCc5GsatZylE"
      },
      "execution_count": null,
      "outputs": []
    },
    {
      "cell_type": "code",
      "execution_count": null,
      "metadata": {
        "colab": {
          "base_uri": "https://localhost:8080/"
        },
        "id": "bkZViO2BV-6j",
        "outputId": "d12706ad-0546-4971-8c39-1190ee695adb"
      },
      "outputs": [
        {
          "output_type": "execute_result",
          "data": {
            "text/plain": [
              "[2, 4, 0, 1]"
            ]
          },
          "metadata": {},
          "execution_count": 16
        }
      ],
      "source": [
        "nx.shortest_path(G,2,1,method='dijkstra')     # find the shortest path between two nodes using Dijkstra's algorithm; in this case between two nodes"
      ]
    },
    {
      "cell_type": "markdown",
      "metadata": {
        "id": "6Pfwe74kEAJP"
      },
      "source": [
        "Q1) Find the length of the shortest path using Dijsktra's algorithm."
      ]
    },
    {
      "cell_type": "code",
      "source": [
        "nx.dijkstra_path_length(G,2,1)"
      ],
      "metadata": {
        "colab": {
          "base_uri": "https://localhost:8080/"
        },
        "id": "UnBCUE1hyEhG",
        "outputId": "2a55d19a-4b8b-492a-e7fa-a0050207b870"
      },
      "execution_count": null,
      "outputs": [
        {
          "output_type": "execute_result",
          "data": {
            "text/plain": [
              "25"
            ]
          },
          "metadata": {},
          "execution_count": 6
        }
      ]
    },
    {
      "cell_type": "markdown",
      "metadata": {
        "id": "J1s5mZVB50Qz"
      },
      "source": [
        "Q2) Make use of the A* algorithm to find the shortest path;  A* in general is faster than Dijkstra's algorithm."
      ]
    },
    {
      "cell_type": "code",
      "source": [
        "nx.astar_path(G,2,1)"
      ],
      "metadata": {
        "colab": {
          "base_uri": "https://localhost:8080/"
        },
        "id": "I9nT2Cwmye0Y",
        "outputId": "091ba54b-25bc-44a1-9225-8b4d8ce6e40b"
      },
      "execution_count": null,
      "outputs": [
        {
          "output_type": "execute_result",
          "data": {
            "text/plain": [
              "[2, 4, 0, 1]"
            ]
          },
          "metadata": {},
          "execution_count": 7
        }
      ]
    },
    {
      "cell_type": "markdown",
      "metadata": {
        "id": "h-B5GWzJEaVu"
      },
      "source": [
        "Q3) Find the length of the shortest path using the A* algorithm."
      ]
    },
    {
      "cell_type": "code",
      "source": [
        "nx.astar_path_length(G,2,1)"
      ],
      "metadata": {
        "colab": {
          "base_uri": "https://localhost:8080/"
        },
        "id": "2gBElkXSzEK5",
        "outputId": "f10da94e-bf1f-4760-889c-847ca896d49c"
      },
      "execution_count": null,
      "outputs": [
        {
          "output_type": "execute_result",
          "data": {
            "text/plain": [
              "25"
            ]
          },
          "metadata": {},
          "execution_count": 8
        }
      ]
    },
    {
      "cell_type": "code",
      "source": [
        "import networkx as nx     # generic graph for R3 onwards\n",
        "#seed=1000           # seed the graph for reproducibility, you should be doing this once you generate a connected graph\n",
        "#G= nx.gnp_random_graph (60, .06, seed=seed) # uncomment this and the above line once you have a connected graph.\n",
        "G= nx.gnp_random_graph (60, .06)       # here we create a random binomial graph with 10 nodes and an average (expected) connectivity of 10*.3= 3."
      ],
      "metadata": {
        "id": "Dy11SN0ZaOiP"
      },
      "execution_count": null,
      "outputs": []
    },
    {
      "cell_type": "code",
      "source": [
        "nx.is_connected(G)      # check whether G which has at least one path between each pair of nodes."
      ],
      "metadata": {
        "colab": {
          "base_uri": "https://localhost:8080/"
        },
        "id": "7h0CUUcTapfx",
        "outputId": "c427cf4f-0a96-4002-8615-d3aee30a104a"
      },
      "execution_count": null,
      "outputs": [
        {
          "output_type": "execute_result",
          "data": {
            "text/plain": [
              "True"
            ]
          },
          "metadata": {},
          "execution_count": 10
        }
      ]
    },
    {
      "cell_type": "code",
      "source": [
        "from random import randint\n",
        "for u, v in G.edges:\n",
        "  G.add_edge(u, v, weight=randint(5,25))"
      ],
      "metadata": {
        "id": "AraQMiofF3qh"
      },
      "execution_count": null,
      "outputs": []
    }
  ],
  "metadata": {
    "colab": {
      "provenance": [],
      "include_colab_link": true
    },
    "kernelspec": {
      "display_name": "Python 3",
      "name": "python3"
    },
    "language_info": {
      "name": "python"
    }
  },
  "nbformat": 4,
  "nbformat_minor": 0
}